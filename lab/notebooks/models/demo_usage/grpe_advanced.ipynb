{
 "cells": [
  {
   "cell_type": "markdown",
   "id": "df500813-877b-477c-bc7b-e677a9e34cbf",
   "metadata": {},
   "source": [
    "# Demo: GRPE Advanced"
   ]
  },
  {
   "cell_type": "markdown",
   "id": "35432afd-08d9-48ea-844e-9d8778bbfab3",
   "metadata": {},
   "source": [
    "This demo notebook showcases the easily configurable advanced GRPE which allows customizeable attention biases to be enforced as well as includes the node degree centrality encoding. The option for perturbing node features using uniform distribution is also provided."
   ]
  },
  {
   "cell_type": "code",
   "execution_count": null,
   "id": "f251599f-c5cf-4235-8aad-12458bd1d5cd",
   "metadata": {},
   "outputs": [],
   "source": [
    "import os\n",
    "import sys\n",
    "from tqdm import tqdm\n",
    "import numpy\n",
    "import torch\n",
    "import torch.nn\n",
    "from torch_geometric.data import Data, Batch\n",
    "from torchvision.transforms import Compose\n",
    "from torch.utils.data.dataloader import DataLoader\n",
    "from typing import Dict, List, Any\n",
    "sys.path.insert(0, '/home/shayan/phoenix/graphite/')\n",
    "from graphite.data.pcqm4mv2.pyg import PCQM4Mv2Dataset\n",
    "from graphite.data.pcqm4mv2.pyg.collator import collate_fn, default_collate_fn\n",
    "from graphite.data.pcqm4mv2.pyg.transforms import AddTaskNode, EncodeNode2NodeConnectionType,  EncodeNode2NodeShortestPathLengthType, \\\n",
    "EncodeNode2NodeShortestPathFeatureTrajectory, EncodeNodeType, EncodeEdgeType, EncodeNodeDegreeCentrality, ComenetEdgeFeatures\n",
    "from graphite.cortex.model.grpe import GraphRelativePositionalEncodingNetwork\n",
    "from graphite.cortex.model.grpe_advanced import GraphRelativePositionalEncodingNetworkAdvanced\n",
    "from graphite.utilities.device import move_batch_to_device\n",
    "from graphite.utilities.miscellaneous import count_parameters"
   ]
  },
  {
   "cell_type": "code",
   "execution_count": 2,
   "id": "518aa5fa-1389-4f40-82b8-a84077323885",
   "metadata": {},
   "outputs": [],
   "source": [
    "device = torch.device('cuda:1')\n",
    "criterion = torch.nn.L1Loss()"
   ]
  },
  {
   "cell_type": "code",
   "execution_count": 3,
   "id": "9c0801a8-5004-4944-9ab2-497f0c2a63dd",
   "metadata": {},
   "outputs": [],
   "source": [
    "dataset = PCQM4Mv2Dataset(root='/home/shayan/from_source/GRPE/data', transform=Compose([\n",
    "    EncodeNode2NodeShortestPathFeatureTrajectory(max_length_considered=4, feature_position_offset=4),\n",
    "    EncodeNodeType(),\n",
    "    EncodeNodeDegreeCentrality(),\n",
    "    AddTaskNode(),\n",
    "    EncodeEdgeType(),\n",
    "    EncodeNode2NodeConnectionType(),\n",
    "    EncodeNode2NodeShortestPathLengthType(max_length_considered=5)\n",
    "]))\n",
    "\n",
    "split_idx = dataset.get_idx_split()\n",
    "train_dataset = dataset[split_idx[\"train\"]]\n",
    "valid_dataset = dataset[split_idx[\"valid\"]]\n",
    "\n",
    "test_dataset = dataset[split_idx[\"test-dev\"]]\n",
    "\n",
    "train_sampler = torch.utils.data.RandomSampler(train_dataset)\n",
    "valid_sampler = torch.utils.data.SequentialSampler(valid_dataset)\n",
    "test_sampler = torch.utils.data.SequentialSampler(test_dataset)\n",
    "\n",
    "dataloader_args=dict(batch_size=128, collate_fn=collate_fn, num_workers=4, pin_memory=True)\n",
    "\n",
    "train_dataloader = DataLoader(train_dataset, sampler=train_sampler, **dataloader_args)\n",
    "val_dataloader = DataLoader(valid_dataset, sampler=valid_sampler, **dataloader_args)\n",
    "test_dataloader = DataLoader(test_dataset, sampler=test_sampler, **dataloader_args)"
   ]
  },
  {
   "cell_type": "code",
   "execution_count": 4,
   "id": "b46328cc-1bda-4cc4-93aa-7645c78e9563",
   "metadata": {},
   "outputs": [
    {
     "data": {
      "text/plain": [
       "['node_type',\n",
       " 'node_features',\n",
       " 'edge_type',\n",
       " 'graphs',\n",
       " 'y',\n",
       " 'node2node_shortest_path_length_type',\n",
       " 'node2node_connection_type',\n",
       " 'shortest_path_feature_trajectory',\n",
       " 'node_degree_centrality']"
      ]
     },
     "execution_count": 4,
     "metadata": {},
     "output_type": "execute_result"
    }
   ],
   "source": [
    "batch = next(iter(train_dataloader))\n",
    "list(batch.keys())"
   ]
  },
  {
   "cell_type": "code",
   "execution_count": 41,
   "id": "a779c99e-d768-4ba5-8d49-bae157173faa",
   "metadata": {},
   "outputs": [],
   "source": [
    "model = torch.nn.Sequential(\n",
    "    GraphRelativePositionalEncodingNetworkAdvanced(\n",
    "        model_dimension=768,\n",
    "        number_of_heads=32,\n",
    "        number_of_layers=12,\n",
    "        feedforward_dimension=768,\n",
    "        dropout=0.1,\n",
    "        attention_dropout=0.1,\n",
    "        shortest_path_length_upperbound=5,\n",
    "        perturbation=0.0,\n",
    "        independent_layer_embeddings=False,\n",
    "        attention_biases=[\n",
    "            'edge',\n",
    "            'shortest_path_length',\n",
    "            'shortest_path'\n",
    "        ],\n",
    "        path_encoding_length_upperbound=4,\n",
    "        path_encoding_code_dim=4,\n",
    "        encode_node_degree_centrality=True\n",
    "    ),\n",
    "    torch.nn.LayerNorm(768),\n",
    "    torch.nn.Linear(768, 1)\n",
    ").to(device)"
   ]
  },
  {
   "cell_type": "code",
   "execution_count": 42,
   "id": "a4771e9f-98bb-48ea-9e32-27f3a8a39256",
   "metadata": {},
   "outputs": [
    {
     "data": {
      "text/plain": [
       "42954105"
      ]
     },
     "execution_count": 42,
     "metadata": {},
     "output_type": "execute_result"
    }
   ],
   "source": [
    "count_parameters(model)"
   ]
  },
  {
   "cell_type": "code",
   "execution_count": 31,
   "id": "84128eea-7375-40c5-9ef0-b587095a497f",
   "metadata": {},
   "outputs": [],
   "source": [
    "from graphite.utilities.miscellaneous import count_parameters"
   ]
  },
  {
   "cell_type": "code",
   "execution_count": 9,
   "id": "13e42111-ed7e-43d8-bbcd-134349f7ee72",
   "metadata": {},
   "outputs": [
    {
     "name": "stderr",
     "output_type": "stream",
     "text": [
      "1001it [04:48,  3.47it/s]\n"
     ]
    },
    {
     "name": "stdout",
     "output_type": "stream",
     "text": [
      "CPU times: user 1h 11min 33s, sys: 1min 19s, total: 1h 12min 53s\n",
      "Wall time: 4min 49s\n"
     ]
    }
   ],
   "source": [
    "%%time # on GeForce RTX 2080 - 11019Mib memory\n",
    "max_iters = 1000\n",
    "for i, batch in tqdm(enumerate(train_dataloader)):\n",
    "    if i > max_iters:\n",
    "        break\n",
    "    batch = move_batch_to_device(batch, device)\n",
    "    graph_reps = model(batch)\n",
    "    loss = criterion(graph_reps.squeeze(), batch['y'])\n",
    "    loss.backward()\n",
    "    model.zero_grad()"
   ]
  }
 ],
 "metadata": {
  "kernelspec": {
   "display_name": "Python 3 (ipykernel)",
   "language": "python",
   "name": "python3"
  },
  "language_info": {
   "codemirror_mode": {
    "name": "ipython",
    "version": 3
   },
   "file_extension": ".py",
   "mimetype": "text/x-python",
   "name": "python",
   "nbconvert_exporter": "python",
   "pygments_lexer": "ipython3",
   "version": "3.10.4"
  }
 },
 "nbformat": 4,
 "nbformat_minor": 5
}
