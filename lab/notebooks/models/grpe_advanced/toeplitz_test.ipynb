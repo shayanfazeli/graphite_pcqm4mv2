{
 "cells": [
  {
   "cell_type": "code",
   "execution_count": 1,
   "id": "a37a3b77-a8ab-45fe-a0dd-2672961f1780",
   "metadata": {},
   "outputs": [],
   "source": [
    "import sys\n",
    "sys.path.insert(0, '/home/shayan/phoenix/graphite/')"
   ]
  },
  {
   "cell_type": "code",
   "execution_count": 2,
   "id": "b474b4f0-fe20-4509-af78-1fb23553e14b",
   "metadata": {},
   "outputs": [
    {
     "name": "stderr",
     "output_type": "stream",
     "text": [
      "/home/shayan/anaconda3/envs/marrovision/lib/python3.7/site-packages/tqdm/auto.py:22: TqdmWarning: IProgress not found. Please update jupyter and ipywidgets. See https://ipywidgets.readthedocs.io/en/stable/user_install.html\n",
      "  from .autonotebook import tqdm as notebook_tqdm\n",
      "2022-10-13 18:51:50,087 - rdkit - INFO - Enabling RDKit 2022.03.5 jupyter extensions\n"
     ]
    }
   ],
   "source": [
    "import argparse\n",
    "import wandb\n",
    "import torch\n",
    "import torch.cuda\n",
    "import torch.distributed\n",
    "from graphite.utilities.config.manager.utilities import read_config\n",
    "from graphite.utilities.device import get_device\n",
    "from graphite.utilities.miscellaneous import count_parameters\n",
    "from graphite.utilities.randomization.seed import fix_random_seeds\n",
    "from graphite.utilities.argument_parsing.train import base_args, distributed_args\n",
    "from graphite.utilities.distributed.utilities import setup_distributed_training_if_requested\n",
    "import graphite.data.handler as data_handler_lib\n",
    "import graphite.cortex.optimization.optimizer as optimizer_lib\n",
    "import graphite.cortex.optimization.special as special_optimization_lib\n",
    "import graphite.cortex.optimization.scheduler as scheduler_lib\n",
    "import graphite.cortex.model as model_lib\n",
    "import graphite.cortex.trainer as trainer_lib\n",
    "from graphite.utilities.wandb.utilities import initialize_wandb\n",
    "from graphite.utilities.miscellaneous import count_parameters\n",
    "from graphite.utilities.logging import get_logger, log_message"
   ]
  },
  {
   "cell_type": "code",
   "execution_count": 13,
   "id": "00b76a1d-ba43-40bc-a448-13c511a8a620",
   "metadata": {},
   "outputs": [],
   "source": [
    "args = argparse.Namespace()\n",
    "args.config = '/home/shayan/phoenix/graphite/lab/configs/experiment/pcqm4mv2/2d/grpe_advanced/exp5.py'\n",
    "args.config_overrides=None\n",
    "args.distributed  =  False"
   ]
  },
  {
   "cell_type": "code",
   "execution_count": 31,
   "id": "86b7f672-85ee-4344-b300-3babf8943fd0",
   "metadata": {},
   "outputs": [],
   "source": [
    "config = read_config(args)"
   ]
  },
  {
   "cell_type": "code",
   "execution_count": 15,
   "id": "8bdf8496-b4a1-4d62-94f9-aac168ed2f1a",
   "metadata": {},
   "outputs": [],
   "source": [
    "data_handler = getattr(data_handler_lib, config['data']['type'])(\n",
    "        distributed=args.distributed,\n",
    "        distributed_sampling='all',\n",
    "        **config['data']['args']\n",
    "    )"
   ]
  },
  {
   "cell_type": "code",
   "execution_count": 25,
   "id": "d1042ba2-0d29-4345-87d6-75e7d3dbd1f1",
   "metadata": {},
   "outputs": [],
   "source": [
    "dataloaders = data_handler.get_dataloaders()"
   ]
  },
  {
   "cell_type": "code",
   "execution_count": 18,
   "id": "8878f1ea-a0a6-45a5-9bc4-dd4873b9c2e8",
   "metadata": {},
   "outputs": [],
   "source": [
    "batch = next(iter(dataloaders['train']))"
   ]
  },
  {
   "cell_type": "code",
   "execution_count": 33,
   "id": "eb9b8cbc-802a-4c7f-8895-e6807894f0bf",
   "metadata": {},
   "outputs": [
    {
     "data": {
      "text/plain": [
       "113956601"
      ]
     },
     "execution_count": 33,
     "metadata": {},
     "output_type": "execute_result"
    }
   ],
   "source": [
    "model = getattr(model_lib, config['model']['type'])( **config['model']['args'])\n",
    "count_parameters(model)"
   ]
  },
  {
   "cell_type": "code",
   "execution_count": 34,
   "id": "c3cc83a5-a43d-492c-aaee-ce3977c81611",
   "metadata": {},
   "outputs": [
    {
     "name": "stdout",
     "output_type": "stream",
     "text": [
      "CPU times: user 1min 47s, sys: 15.8 s, total: 2min 2s\n",
      "Wall time: 6.33 s\n"
     ]
    }
   ],
   "source": [
    "%%time\n",
    "loss, outputs = model(batch)"
   ]
  },
  {
   "cell_type": "code",
   "execution_count": 35,
   "id": "42865a56-6e66-4151-95d2-f2643894498b",
   "metadata": {},
   "outputs": [
    {
     "data": {
      "text/plain": [
       "113960505"
      ]
     },
     "execution_count": 35,
     "metadata": {},
     "output_type": "execute_result"
    }
   ],
   "source": [
    "config['model']['args']['model_config']['args']['toeplitz'] = True\n",
    "model = getattr(model_lib, config['model']['type'])( **config['model']['args'])\n",
    "count_parameters(model)"
   ]
  },
  {
   "cell_type": "code",
   "execution_count": 36,
   "id": "35000490-e82b-47ac-9a16-c3b1d391ad81",
   "metadata": {},
   "outputs": [
    {
     "name": "stdout",
     "output_type": "stream",
     "text": [
      "CPU times: user 1min 52s, sys: 3.86 s, total: 1min 56s\n",
      "Wall time: 6.11 s\n"
     ]
    }
   ],
   "source": [
    "%%time\n",
    "loss, outputs = model(batch)"
   ]
  },
  {
   "cell_type": "code",
   "execution_count": 39,
   "id": "fa583f02-a619-46c7-9964-485e98ccf421",
   "metadata": {},
   "outputs": [
    {
     "name": "stdout",
     "output_type": "stream",
     "text": [
      "model.toeplitz_row\n",
      "\t torch.Size([32, 61])\n",
      "model.toeplitz_col\n",
      "\t torch.Size([32, 61])\n"
     ]
    }
   ],
   "source": [
    "for n, p in model.named_parameters():\n",
    "    if 'toeplitz' in n:\n",
    "        print(n)\n",
    "        print(f'\\t {p.shape}')"
   ]
  }
 ],
 "metadata": {
  "kernelspec": {
   "display_name": "Python 3 (ipykernel)",
   "language": "python",
   "name": "python3"
  },
  "language_info": {
   "codemirror_mode": {
    "name": "ipython",
    "version": 3
   },
   "file_extension": ".py",
   "mimetype": "text/x-python",
   "name": "python",
   "nbconvert_exporter": "python",
   "pygments_lexer": "ipython3",
   "version": "3.7.11"
  }
 },
 "nbformat": 4,
 "nbformat_minor": 5
}
