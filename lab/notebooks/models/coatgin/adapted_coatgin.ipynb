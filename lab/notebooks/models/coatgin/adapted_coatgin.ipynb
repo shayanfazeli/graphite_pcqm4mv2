{
 "cells": [
  {
   "cell_type": "markdown",
   "id": "d9189f61-eb51-4048-ac53-9d0d192dd10a",
   "metadata": {},
   "source": [
    "# Adaptations of COATGIN and GNNS for Normal, 3d, and Line graph dual"
   ]
  },
  {
   "cell_type": "code",
   "execution_count": 1,
   "id": "15871fd3-b364-45e5-9292-1429bd9ee66b",
   "metadata": {},
   "outputs": [],
   "source": [
    "__dataset_root_repo = '/data/pcqm4mv2_kpgt/'  # the kpgt content is there too\n",
    "__codes_repo = '/home/shayan/phoenix/graphite/'\n",
    "__conformers_filepath = '/data/conformers.np'"
   ]
  },
  {
   "cell_type": "code",
   "execution_count": 5,
   "id": "5e444d95-c259-48ee-83c6-a30d0c21e8e5",
   "metadata": {
    "tags": []
   },
   "outputs": [],
   "source": [
    "import torch\n",
    "import torch.nn\n",
    "import sys\n",
    "sys.path.insert(0, __codes_repo)\n",
    "from tqdm import tqdm\n",
    "from torch.utils.data.dataloader import DataLoader\n",
    "from torch_geometric.loader.dataloader import Collater\n",
    "from graphite.data.pcqm4mv2.pyg import PCQM4Mv2DatasetFull\n",
    "from graphite.data.pcqm4mv2.pyg.collator import collate_fn, default_collate_fn\n",
    "from graphite.data.utilities.sequence_collate.utilities import pad_sequence, pad_sequence_2d\n",
    "from graphite.data.pcqm4mv2.pyg.transforms import ComenetEdgeFeatures, LineGraphTransform\n",
    "from torchvision.transforms import Compose\n",
    "from graphite.cortex.model.model.gnn import CoAtGINGeneralPipeline\n",
    "from graphite.utilities.miscellaneous import count_parameters"
   ]
  },
  {
   "cell_type": "markdown",
   "id": "a259a48d-b31f-4246-9a1f-1b03c2bd14d4",
   "metadata": {},
   "source": [
    "## Usual Graph"
   ]
  },
  {
   "cell_type": "code",
   "execution_count": 6,
   "id": "ac1324c6-fee1-4d6c-8293-9fcab0d41c44",
   "metadata": {},
   "outputs": [
    {
     "name": "stdout",
     "output_type": "stream",
     "text": [
      "CPU times: user 1.43 s, sys: 6.5 s, total: 7.92 s\n",
      "Wall time: 7.92 s\n"
     ]
    }
   ],
   "source": [
    "%%time\n",
    "dataset = PCQM4Mv2DatasetFull(\n",
    "    root=__dataset_root_repo,\n",
    "    descriptor=True,\n",
    "    fingerprint=True,\n",
    "    conformers_memmap=__conformers_filepath,\n",
    "    num_conformers_to_return=2,\n",
    "    transform=Compose([\n",
    "        ComenetEdgeFeatures(cutoff=3.0, edge_index_key='edge_index', concatenate_with_edge_attr=True)\n",
    "    ]),\n",
    ")"
   ]
  },
  {
   "cell_type": "code",
   "execution_count": 7,
   "id": "dced7cf1-33dc-4807-bdc1-b29e2d515cd2",
   "metadata": {},
   "outputs": [],
   "source": [
    "def collate_fn(batch):\n",
    "    fingerprint = torch.stack([g.fingerprint for g in batch])\n",
    "    molecule_descriptor = torch.stack([g.molecule_descriptor for g in batch])\n",
    "    \n",
    "    g = default_collate_fn(batch)\n",
    "    del g.fingerprint\n",
    "    del g.molecule_descriptor\n",
    "    g.fingerprint = fingerprint\n",
    "    g.molecule_descriptor = molecule_descriptor[:, 1:]\n",
    "    return g"
   ]
  },
  {
   "cell_type": "code",
   "execution_count": 8,
   "id": "ab564f20-3013-4770-a915-c44f0561f137",
   "metadata": {},
   "outputs": [],
   "source": [
    "split_idx = dataset.get_idx_split()\n",
    "train_dataset = dataset[split_idx[\"train\"]]\n",
    "valid_dataset = dataset[split_idx[\"valid\"]]\n",
    "\n",
    "test_dataset = dataset[split_idx[\"test-dev\"]]\n",
    "\n",
    "train_sampler = torch.utils.data.RandomSampler(train_dataset)\n",
    "valid_sampler = torch.utils.data.SequentialSampler(valid_dataset)\n",
    "test_sampler = torch.utils.data.SequentialSampler(test_dataset)\n",
    "\n",
    "dataloader_args=dict(batch_size=32, collate_fn=collate_fn)\n",
    "\n",
    "train_dataloader = DataLoader(train_dataset, sampler=train_sampler, **dataloader_args)\n",
    "val_dataloader = DataLoader(valid_dataset, sampler=valid_sampler, **dataloader_args)\n",
    "test_dataloader = DataLoader(test_dataset, sampler=test_sampler, **dataloader_args)"
   ]
  },
  {
   "cell_type": "code",
   "execution_count": 9,
   "id": "a8a51d16-1845-4af9-b37c-cb031bc1c175",
   "metadata": {},
   "outputs": [
    {
     "data": {
      "text/plain": [
       "DataBatch(edge_index=[2, 952], edge_attr=[952, 21], x=[461, 9], y=[32], batch=[461], ptr=[33], fingerprint=[32, 512], molecule_descriptor=[32, 200])"
      ]
     },
     "execution_count": 9,
     "metadata": {},
     "output_type": "execute_result"
    }
   ],
   "source": [
    "g = next(iter(train_dataloader))\n",
    "g"
   ]
  },
  {
   "cell_type": "code",
   "execution_count": 10,
   "id": "916b48fc-5cb2-41dd-a86c-802fb17e4d22",
   "metadata": {},
   "outputs": [
    {
     "name": "stdout",
     "output_type": "stream",
     "text": [
      "# of parameters: 6649088\n"
     ]
    }
   ],
   "source": [
    "model = CoAtGINGeneralPipeline(\n",
    "    node_encoder_config=dict(\n",
    "        type='CoAtGIN',\n",
    "        args=dict(\n",
    "            num_layers=5,\n",
    "            model_dim=256,\n",
    "            conv_hop=2,\n",
    "            conv_kernel=2,\n",
    "            use_virt=True,\n",
    "            use_att=True,\n",
    "            line_graph=False,\n",
    "            pos_features=18\n",
    "        )\n",
    "    ),\n",
    "    graph_pooling=\"sum\"\n",
    ")\n",
    "print(f\"# of parameters: {count_parameters(model)}\")"
   ]
  },
  {
   "cell_type": "code",
   "execution_count": 11,
   "id": "5c0d82b8-57b9-405d-8f73-7cd5cd4752be",
   "metadata": {},
   "outputs": [
    {
     "data": {
      "text/plain": [
       "torch.Size([32, 256])"
      ]
     },
     "execution_count": 11,
     "metadata": {},
     "output_type": "execute_result"
    }
   ],
   "source": [
    "graph_reps = model(g)\n",
    "graph_reps.shape"
   ]
  },
  {
   "cell_type": "code",
   "execution_count": 12,
   "id": "f407d21e-66c0-4f3f-8d68-6bb16c89bada",
   "metadata": {},
   "outputs": [
    {
     "name": "stdout",
     "output_type": "stream",
     "text": [
      "# of parameters: 1281541\n"
     ]
    }
   ],
   "source": [
    "model = CoAtGINGeneralPipeline(\n",
    "    node_encoder_config=dict(\n",
    "        type='GNNWithVirtualNode',\n",
    "        args=dict(\n",
    "            num_layers=5,\n",
    "            model_dim=256,\n",
    "            drop_ratio=0.5,\n",
    "            JK=\"last\",\n",
    "            residual=True,\n",
    "            gnn_type='gin',\n",
    "            line_graph=False,\n",
    "            pos_features=18\n",
    "        )\n",
    "    ),\n",
    "    graph_pooling=\"sum\"\n",
    ")\n",
    "print(f\"# of parameters: {count_parameters(model)}\")"
   ]
  },
  {
   "cell_type": "code",
   "execution_count": 13,
   "id": "853ae465-3d91-43d6-86cb-48a013f830ad",
   "metadata": {},
   "outputs": [
    {
     "data": {
      "text/plain": [
       "torch.Size([32, 256])"
      ]
     },
     "execution_count": 13,
     "metadata": {},
     "output_type": "execute_result"
    }
   ],
   "source": [
    "graph_reps = model(g)\n",
    "graph_reps.shape"
   ]
  },
  {
   "cell_type": "code",
   "execution_count": 14,
   "id": "fe786b7a-4add-4d87-af6f-34b4ddfb615e",
   "metadata": {},
   "outputs": [
    {
     "name": "stdout",
     "output_type": "stream",
     "text": [
      "# of parameters: 951296\n"
     ]
    }
   ],
   "source": [
    "model = CoAtGINGeneralPipeline(\n",
    "    node_encoder_config=dict(\n",
    "        type='GNNWithVirtualNode',\n",
    "        args=dict(\n",
    "            num_layers=5,\n",
    "            model_dim=256,\n",
    "            drop_ratio=0.5,\n",
    "            JK=\"last\",\n",
    "            residual=True,\n",
    "            gnn_type='gcn',\n",
    "            line_graph=False,\n",
    "            pos_features=18\n",
    "        )\n",
    "    ),\n",
    "    graph_pooling=\"sum\"\n",
    ")\n",
    "print(f\"# of parameters: {count_parameters(model)}\")"
   ]
  },
  {
   "cell_type": "code",
   "execution_count": 15,
   "id": "b39112cb-f707-4211-87f7-5f73f66eca23",
   "metadata": {},
   "outputs": [
    {
     "data": {
      "text/plain": [
       "torch.Size([32, 256])"
      ]
     },
     "execution_count": 15,
     "metadata": {},
     "output_type": "execute_result"
    }
   ],
   "source": [
    "graph_reps = model(g)\n",
    "graph_reps.shape"
   ]
  },
  {
   "cell_type": "code",
   "execution_count": 16,
   "id": "fcb76195-0791-429c-9296-50bce8f4a819",
   "metadata": {},
   "outputs": [
    {
     "name": "stdout",
     "output_type": "stream",
     "text": [
      "# of parameters: 750853\n"
     ]
    }
   ],
   "source": [
    "model = CoAtGINGeneralPipeline(\n",
    "    node_encoder_config=dict(\n",
    "        type='GNN',\n",
    "        args=dict(\n",
    "            num_layers=5,\n",
    "            model_dim=256,\n",
    "            drop_ratio=0.5,\n",
    "            JK=\"last\",\n",
    "            residual=True,\n",
    "            gnn_type='gin',\n",
    "            line_graph=False,\n",
    "            pos_features=18\n",
    "        )\n",
    "    ),\n",
    "    graph_pooling=\"sum\"\n",
    ")\n",
    "print(f\"# of parameters: {count_parameters(model)}\")"
   ]
  },
  {
   "cell_type": "code",
   "execution_count": 17,
   "id": "3e3e92f3-c7e2-4dbc-b5c5-7a85473c498d",
   "metadata": {},
   "outputs": [
    {
     "data": {
      "text/plain": [
       "torch.Size([32, 256])"
      ]
     },
     "execution_count": 17,
     "metadata": {},
     "output_type": "execute_result"
    }
   ],
   "source": [
    "graph_reps = model(g)\n",
    "graph_reps.shape"
   ]
  },
  {
   "cell_type": "code",
   "execution_count": 18,
   "id": "9aaab75a-6cb5-4d94-9b22-6c1553e9aa28",
   "metadata": {},
   "outputs": [
    {
     "name": "stdout",
     "output_type": "stream",
     "text": [
      "# of parameters: 420608\n"
     ]
    }
   ],
   "source": [
    "model = CoAtGINGeneralPipeline(\n",
    "    node_encoder_config=dict(\n",
    "        type='GNN',\n",
    "        args=dict(\n",
    "            num_layers=5,\n",
    "            model_dim=256,\n",
    "            drop_ratio=0.5,\n",
    "            JK=\"last\",\n",
    "            residual=True,\n",
    "            gnn_type='gcn',\n",
    "            line_graph=False,\n",
    "            pos_features=18\n",
    "        )\n",
    "    ),\n",
    "    graph_pooling=\"sum\"\n",
    ")\n",
    "print(f\"# of parameters: {count_parameters(model)}\")"
   ]
  },
  {
   "cell_type": "code",
   "execution_count": 19,
   "id": "8f102f97-7979-4580-93c3-d7e036967688",
   "metadata": {},
   "outputs": [
    {
     "data": {
      "text/plain": [
       "torch.Size([32, 256])"
      ]
     },
     "execution_count": 19,
     "metadata": {},
     "output_type": "execute_result"
    }
   ],
   "source": [
    "graph_reps = model(g)\n",
    "graph_reps.shape"
   ]
  },
  {
   "cell_type": "markdown",
   "id": "f55a7039-0b51-4290-ac5b-4ecea33039ed",
   "metadata": {},
   "source": [
    "## Line Graph"
   ]
  },
  {
   "cell_type": "code",
   "execution_count": 20,
   "id": "88f770b6-ed4f-4479-8a84-d9fdbbaefb57",
   "metadata": {},
   "outputs": [
    {
     "name": "stdout",
     "output_type": "stream",
     "text": [
      "CPU times: user 1.04 s, sys: 6.32 s, total: 7.36 s\n",
      "Wall time: 7.27 s\n"
     ]
    }
   ],
   "source": [
    "%%time\n",
    "dataset = PCQM4Mv2DatasetFull(\n",
    "    root=__dataset_root_repo,\n",
    "    descriptor=True,\n",
    "    fingerprint=True,\n",
    "    conformers_memmap=__conformers_filepath,\n",
    "    num_conformers_to_return=2,\n",
    "    transform=Compose([\n",
    "        ComenetEdgeFeatures(cutoff=3.0, edge_index_key='edge_index', concatenate_with_edge_attr=True),\n",
    "        LineGraphTransform(bring_in_adjacent_nodes=True, keep_as_is=['fingerprint', 'molecule_descriptor', 'y'])\n",
    "    ]),\n",
    ")"
   ]
  },
  {
   "cell_type": "code",
   "execution_count": 21,
   "id": "571afd4f-2d1b-41e9-8004-e0c25bb1410b",
   "metadata": {},
   "outputs": [],
   "source": [
    "def collate_fn(batch):\n",
    "    fingerprint = torch.stack([g.fingerprint for g in batch])\n",
    "    molecule_descriptor = torch.stack([g.molecule_descriptor for g in batch])\n",
    "    \n",
    "    g = default_collate_fn(batch)\n",
    "    del g.fingerprint\n",
    "    del g.molecule_descriptor\n",
    "    g.fingerprint = fingerprint\n",
    "    g.molecule_descriptor = molecule_descriptor[:, 1:]\n",
    "    return g"
   ]
  },
  {
   "cell_type": "code",
   "execution_count": 22,
   "id": "7bc5e89b-5599-42e7-a4bd-67fff6d9e312",
   "metadata": {},
   "outputs": [],
   "source": [
    "split_idx = dataset.get_idx_split()\n",
    "train_dataset = dataset[split_idx[\"train\"]]\n",
    "valid_dataset = dataset[split_idx[\"valid\"]]\n",
    "\n",
    "test_dataset = dataset[split_idx[\"test-dev\"]]\n",
    "\n",
    "train_sampler = torch.utils.data.RandomSampler(train_dataset)\n",
    "valid_sampler = torch.utils.data.SequentialSampler(valid_dataset)\n",
    "test_sampler = torch.utils.data.SequentialSampler(test_dataset)\n",
    "\n",
    "dataloader_args=dict(batch_size=32, collate_fn=collate_fn)\n",
    "\n",
    "train_dataloader = DataLoader(train_dataset, sampler=train_sampler, **dataloader_args)\n",
    "val_dataloader = DataLoader(valid_dataset, sampler=valid_sampler, **dataloader_args)\n",
    "test_dataloader = DataLoader(test_dataset, sampler=test_sampler, **dataloader_args)"
   ]
  },
  {
   "cell_type": "code",
   "execution_count": 23,
   "id": "48fc9090-a1d5-45b3-aca8-e978b024f5d4",
   "metadata": {},
   "outputs": [
    {
     "data": {
      "text/plain": [
       "DataBatch(x=[970, 39], edge_index=[2, 2300], num_nodes=970, y=[32], batch=[970], ptr=[33], fingerprint=[32, 512], molecule_descriptor=[32, 200])"
      ]
     },
     "execution_count": 23,
     "metadata": {},
     "output_type": "execute_result"
    }
   ],
   "source": [
    "g_line = next(iter(train_dataloader))\n",
    "g_line"
   ]
  },
  {
   "cell_type": "code",
   "execution_count": 24,
   "id": "7c6aee7e-52ce-4061-b75e-2d4d32056885",
   "metadata": {},
   "outputs": [
    {
     "name": "stdout",
     "output_type": "stream",
     "text": [
      "# of parameters: 6755620\n"
     ]
    }
   ],
   "source": [
    "model = CoAtGINGeneralPipeline(\n",
    "    node_encoder_config=dict(\n",
    "        type='CoAtGIN',\n",
    "        args=dict(\n",
    "            num_layers=5,\n",
    "            model_dim=256,\n",
    "            conv_hop=2,\n",
    "            conv_kernel=2,\n",
    "            use_virt=True,\n",
    "            use_att=True,\n",
    "            line_graph=True\n",
    "        )\n",
    "    ),\n",
    "    graph_pooling=\"sum\"\n",
    ")\n",
    "print(f\"# of parameters: {count_parameters(model)}\")"
   ]
  },
  {
   "cell_type": "code",
   "execution_count": 25,
   "id": "cbf42952-d7c3-46da-b94c-1d3266367cc8",
   "metadata": {},
   "outputs": [
    {
     "data": {
      "text/plain": [
       "torch.Size([32, 256])"
      ]
     },
     "execution_count": 25,
     "metadata": {},
     "output_type": "execute_result"
    }
   ],
   "source": [
    "graph_reps = model(g_line)\n",
    "graph_reps.shape"
   ]
  },
  {
   "cell_type": "code",
   "execution_count": 26,
   "id": "7e883532-1bca-462b-a518-13328c33c5d0",
   "metadata": {},
   "outputs": [
    {
     "name": "stdout",
     "output_type": "stream",
     "text": [
      "# of parameters: 6755620\n"
     ]
    }
   ],
   "source": [
    "model = CoAtGINGeneralPipeline(\n",
    "    node_encoder_config=dict(\n",
    "        type='CoAtGIN',\n",
    "        args=dict(\n",
    "            num_layers=5,\n",
    "            model_dim=256,\n",
    "            conv_hop=2,\n",
    "            conv_kernel=2,\n",
    "            use_virt=True,\n",
    "            use_att=True,\n",
    "            line_graph=True\n",
    "        )\n",
    "    ),\n",
    "    graph_pooling=\"sum\"\n",
    ")\n",
    "print(f\"# of parameters: {count_parameters(model)}\")"
   ]
  },
  {
   "cell_type": "code",
   "execution_count": 27,
   "id": "48729089-8a2d-4b2e-a769-ec201e01a03f",
   "metadata": {},
   "outputs": [
    {
     "data": {
      "text/plain": [
       "torch.Size([32, 256])"
      ]
     },
     "execution_count": 27,
     "metadata": {},
     "output_type": "execute_result"
    }
   ],
   "source": [
    "graph_reps = model(g_line)\n",
    "graph_reps.shape"
   ]
  },
  {
   "cell_type": "code",
   "execution_count": 28,
   "id": "b0a4c6e6-2e05-4636-b08f-449eb1cd308a",
   "metadata": {},
   "outputs": [
    {
     "name": "stdout",
     "output_type": "stream",
     "text": [
      "# of parameters: 1510953\n"
     ]
    }
   ],
   "source": [
    "model = CoAtGINGeneralPipeline(\n",
    "    node_encoder_config=dict(\n",
    "        type='GNNWithVirtualNode',\n",
    "        args=dict(\n",
    "            num_layers=5,\n",
    "            model_dim=256,\n",
    "            drop_ratio=0.5,\n",
    "            JK=\"last\",\n",
    "            residual=True,\n",
    "            gnn_type='gin',\n",
    "            line_graph=True\n",
    "        )\n",
    "    ),\n",
    "    graph_pooling=\"sum\"\n",
    ")\n",
    "print(f\"# of parameters: {count_parameters(model)}\")"
   ]
  },
  {
   "cell_type": "code",
   "execution_count": 29,
   "id": "cc42838f-35eb-468a-91ca-3b5bc65c64d5",
   "metadata": {},
   "outputs": [
    {
     "data": {
      "text/plain": [
       "torch.Size([32, 256])"
      ]
     },
     "execution_count": 29,
     "metadata": {},
     "output_type": "execute_result"
    }
   ],
   "source": [
    "graph_reps = model(g_line)\n",
    "graph_reps.shape"
   ]
  },
  {
   "cell_type": "code",
   "execution_count": 30,
   "id": "297018ac-81c1-4e79-9f0f-25c3b15bc42e",
   "metadata": {},
   "outputs": [
    {
     "name": "stdout",
     "output_type": "stream",
     "text": [
      "# of parameters: 1510953\n"
     ]
    }
   ],
   "source": [
    "model = CoAtGINGeneralPipeline(\n",
    "    node_encoder_config=dict(\n",
    "        type='GNNWithVirtualNode',\n",
    "        args=dict(\n",
    "            num_layers=5,\n",
    "            model_dim=256,\n",
    "            drop_ratio=0.5,\n",
    "            JK=\"last\",\n",
    "            residual=True,\n",
    "            gnn_type='gin',\n",
    "            line_graph=True\n",
    "        )\n",
    "    ),\n",
    "    graph_pooling=\"sum\"\n",
    ")\n",
    "print(f\"# of parameters: {count_parameters(model)}\")"
   ]
  },
  {
   "cell_type": "code",
   "execution_count": 31,
   "id": "ea38ac8d-bc0b-4ff4-8188-ede68c359716",
   "metadata": {},
   "outputs": [
    {
     "data": {
      "text/plain": [
       "torch.Size([32, 256])"
      ]
     },
     "execution_count": 31,
     "metadata": {},
     "output_type": "execute_result"
    }
   ],
   "source": [
    "graph_reps = model(g_line)\n",
    "graph_reps.shape"
   ]
  },
  {
   "cell_type": "code",
   "execution_count": 32,
   "id": "39e22047-1cb1-46ce-8ad2-f13d62246561",
   "metadata": {},
   "outputs": [
    {
     "name": "stdout",
     "output_type": "stream",
     "text": [
      "# of parameters: 980265\n"
     ]
    }
   ],
   "source": [
    "model = CoAtGINGeneralPipeline(\n",
    "    node_encoder_config=dict(\n",
    "        type='GNN',\n",
    "        args=dict(\n",
    "            num_layers=5,\n",
    "            model_dim=256,\n",
    "            drop_ratio=0.5,\n",
    "            JK=\"last\",\n",
    "            residual=True,\n",
    "            gnn_type='gin',\n",
    "            line_graph=True\n",
    "        )\n",
    "    ),\n",
    "    graph_pooling=\"sum\"\n",
    ")\n",
    "print(f\"# of parameters: {count_parameters(model)}\")"
   ]
  },
  {
   "cell_type": "code",
   "execution_count": 33,
   "id": "f333d638-e199-420b-bff5-c26e8ec8a4a5",
   "metadata": {},
   "outputs": [
    {
     "data": {
      "text/plain": [
       "torch.Size([32, 256])"
      ]
     },
     "execution_count": 33,
     "metadata": {},
     "output_type": "execute_result"
    }
   ],
   "source": [
    "graph_reps = model(g_line)\n",
    "graph_reps.shape"
   ]
  },
  {
   "cell_type": "code",
   "execution_count": 34,
   "id": "7243084d-f325-4cdd-bb63-3161821a61db",
   "metadata": {},
   "outputs": [
    {
     "name": "stdout",
     "output_type": "stream",
     "text": [
      "# of parameters: 650020\n"
     ]
    }
   ],
   "source": [
    "model = CoAtGINGeneralPipeline(\n",
    "    node_encoder_config=dict(\n",
    "        type='GNN',\n",
    "        args=dict(\n",
    "            num_layers=5,\n",
    "            model_dim=256,\n",
    "            drop_ratio=0.5,\n",
    "            JK=\"last\",\n",
    "            residual=True,\n",
    "            gnn_type='gcn',\n",
    "            line_graph=True\n",
    "        )\n",
    "    ),\n",
    "    graph_pooling=\"sum\"\n",
    ")\n",
    "print(f\"# of parameters: {count_parameters(model)}\")"
   ]
  },
  {
   "cell_type": "code",
   "execution_count": 35,
   "id": "8a2f8331-52ae-4716-8eea-389c516fdf8d",
   "metadata": {},
   "outputs": [
    {
     "data": {
      "text/plain": [
       "torch.Size([32, 256])"
      ]
     },
     "execution_count": 35,
     "metadata": {},
     "output_type": "execute_result"
    }
   ],
   "source": [
    "graph_reps = model(g_line)\n",
    "graph_reps.shape"
   ]
  }
 ],
 "metadata": {
  "kernelspec": {
   "display_name": "Python 3 (ipykernel)",
   "language": "python",
   "name": "python3"
  },
  "language_info": {
   "codemirror_mode": {
    "name": "ipython",
    "version": 3
   },
   "file_extension": ".py",
   "mimetype": "text/x-python",
   "name": "python",
   "nbconvert_exporter": "python",
   "pygments_lexer": "ipython3",
   "version": "3.7.11"
  }
 },
 "nbformat": 4,
 "nbformat_minor": 5
}
